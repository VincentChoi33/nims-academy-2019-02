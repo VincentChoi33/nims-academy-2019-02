{
 "cells": [
  {
   "cell_type": "markdown",
   "metadata": {},
   "source": [
    "# 제어 구문"
   ]
  },
  {
   "cell_type": "markdown",
   "metadata": {},
   "source": [
    "## 분기\n",
    "\n",
    "형식\n",
    "\n",
    "```python\n",
    "<statements ...>\n",
    "if <condition>:\n",
    "    <statements ...>\n",
    "elif <condition>:\n",
    "    <statements ...>\n",
    "else:\n",
    "    <statements ...>\n",
    "<statements ...>\n",
    "# If block ends with un-indent\n",
    "```\n",
    "\n",
    "- `elif`, `else`는 없어도 됨\n",
    "- `if`, `elif` 다음에 괄호 필요없음\n",
    "- 4칸 들여쓰기(Jupyter Notebook/Lab에서는 Tab을 누르면 자동으로 공백 4칸이 입력됨)\n",
    "- 끝나는 구분이 따로 없고, 들여쓰기를 마치면 끝남"
   ]
  },
  {
   "cell_type": "code",
   "execution_count": null,
   "metadata": {},
   "outputs": [],
   "source": [
    "if 3 > 2:\n",
    "    print('3 is greater than 2.')\n",
    "else:\n",
    "    print('What?')"
   ]
  },
  {
   "cell_type": "markdown",
   "metadata": {},
   "source": [
    "## 반복문\n",
    "\n",
    "형식\n",
    "\n",
    "```python\n",
    "for <element> in <iterable>:\n",
    "    <do something with elements ...>\n",
    "```"
   ]
  },
  {
   "cell_type": "code",
   "execution_count": null,
   "metadata": {},
   "outputs": [],
   "source": [
    "for x in [1, 3, 2, 4]:\n",
    "    print(x + 10)"
   ]
  },
  {
   "cell_type": "code",
   "execution_count": null,
   "metadata": {},
   "outputs": [],
   "source": [
    "for i in range(4):\n",
    "    print(i)"
   ]
  },
  {
   "cell_type": "code",
   "execution_count": null,
   "metadata": {},
   "outputs": [],
   "source": [
    "l = [42, 'string', 3.14, print]\n",
    "for i, x in enumerate(l):\n",
    "    print(i, x)"
   ]
  }
 ],
 "metadata": {
  "kernelspec": {
   "display_name": "Python 3",
   "language": "python",
   "name": "python3"
  },
  "language_info": {
   "codemirror_mode": {
    "name": "ipython",
    "version": 3
   },
   "file_extension": ".py",
   "mimetype": "text/x-python",
   "name": "python",
   "nbconvert_exporter": "python",
   "pygments_lexer": "ipython3",
   "version": "3.7.1"
  }
 },
 "nbformat": 4,
 "nbformat_minor": 2
}
