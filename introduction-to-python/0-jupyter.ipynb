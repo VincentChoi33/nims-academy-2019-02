{
 "cells": [
  {
   "cell_type": "markdown",
   "metadata": {},
   "source": [
    "# Jupyter Notebook (Lab) 사용하기"
   ]
  },
  {
   "cell_type": "markdown",
   "metadata": {},
   "source": [
    "[Jupyter](https://jupyter.org/) Notebook(구 IPython Notebook)은 다양한 언어(Julia, Python, R 등)를 지원하는 웹기반 인터랙티브 계산 환경입니다. 코드와 함께 Markdown을 이용해서 문서 작성도 할 수 있습니다.\n",
    "\n",
    "- 셀에 내용을 입력하고 <kbd>Ctrl</kbd>+</kbd>Enter</kbd>를 누르면 셀 실행, <kbd>Shift</kbd>+<kbd>Enter</kbd>를 누르면 셀을 실행하고 다음 셀로 넘어갑니다.\n",
    "- 셀 안을 선택하면 Edit mode, 셀 바깥을 선택하거나, 셀 입력 도중 <kbd>ESC</kbd>를 누르면 Command mode입니다.\n",
    "- Command mode 상태에서 <kbd>a</kbd>, <kbd>b</kbd>를 누르면 현재 셀의 위나 아래에 셀을 추가할 수 있습니다.\n",
    "- 상단 메뉴에서 셀 타입을 Code나 Markdown으로 변경할 수 있고, 단축키는 Command mode 상태에서 <kbd>y</kbd>와 <kbd>m</kbd>입니다."
   ]
  },
  {
   "cell_type": "markdown",
   "metadata": {},
   "source": [
    "Jupyter notebook에서는 맨 마지막에 표현식<sup>expression</sup>이 있으면, 그 값을 보여 줍니다. (표현식이 아닌) 구문<sup>statement</sup>인 경우엔 아무 것도 표시하지 않습니다."
   ]
  },
  {
   "cell_type": "code",
   "execution_count": null,
   "metadata": {},
   "outputs": [],
   "source": [
    "1\n",
    "2\n",
    "3"
   ]
  },
  {
   "cell_type": "code",
   "execution_count": null,
   "metadata": {},
   "outputs": [],
   "source": [
    "1\n",
    "2\n",
    "a = 3"
   ]
  },
  {
   "cell_type": "markdown",
   "metadata": {},
   "source": [
    "## Tips\n",
    "\n",
    "- 파일 생성할 때 꼭 이름 바꾸기\n",
    "- 가능한 한 셀 실행 순서/셀 실행 횟수에 영향을 받지 않도록 만들기"
   ]
  }
 ],
 "metadata": {
  "kernelspec": {
   "display_name": "Python 3",
   "language": "python",
   "name": "python3"
  },
  "language_info": {
   "codemirror_mode": {
    "name": "ipython",
    "version": 3
   },
   "file_extension": ".py",
   "mimetype": "text/x-python",
   "name": "python",
   "nbconvert_exporter": "python",
   "pygments_lexer": "ipython3",
   "version": "3.7.1"
  }
 },
 "nbformat": 4,
 "nbformat_minor": 2
}
